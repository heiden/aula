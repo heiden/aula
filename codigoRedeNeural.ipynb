{
 "cells": [
  {
   "cell_type": "markdown",
   "metadata": {},
   "source": [
    "# TRABALHO DE IAR - Previsão de Diabetes usando RNAs\n",
    "# Aluno: João Marcelo Xavier\n",
    "# Professor: Alexandre Heiden"
   ]
  },
  {
   "cell_type": "code",
   "execution_count": 3,
   "metadata": {},
   "outputs": [],
   "source": [
    "# Importações\n",
    "import pandas as pd\n",
    "import numpy as np\n",
    "from sklearn.model_selection import train_test_split\n",
    "from sklearn.neural_network import MLPClassifier"
   ]
  },
  {
   "cell_type": "code",
   "execution_count": 91,
   "metadata": {},
   "outputs": [
    {
     "name": "stdout",
     "output_type": "stream",
     "text": [
      "Porcentagem dos acertos: 70.63197026022306%\n"
     ]
    }
   ],
   "source": [
    "\n",
    "# Fazendo leitura do arquivo 'diabetes.xlsx'\n",
    "df_diabetes = pd.read_excel('diabetes.xlsx')\n",
    "#print(df_diabetes)\n",
    "# Treinamento do nosso modelo\n",
    "x_train, x_test, y_train, y_test = train_test_split(\n",
    "    df_diabetes.drop(['nro_filhos', 'idade', 'classe'], axis='columns'), df_diabetes['classe'], test_size=0.35)\n",
    "    \n",
    "# Usando MLPClassifier\n",
    "classificacao = MLPClassifier(solver='adam', max_iter=2000)\n",
    "classificacao.fit(x_train, y_train)\n",
    "print(\"Porcentagem dos acertos: {}%\".format(classificacao.score(x_test, y_test)*100))\n"
   ]
  }
 ],
 "metadata": {
  "interpreter": {
   "hash": "b9401ba2cd070fc65b82f27d639c1d04e29d71a1ed16f939e5db9876ac6a0b88"
  },
  "kernelspec": {
   "display_name": "Python 3.9.1 64-bit",
   "language": "python",
   "name": "python3"
  },
  "language_info": {
   "codemirror_mode": {
    "name": "ipython",
    "version": 3
   },
   "file_extension": ".py",
   "mimetype": "text/x-python",
   "name": "python",
   "nbconvert_exporter": "python",
   "pygments_lexer": "ipython3",
   "version": "3.9.1"
  },
  "orig_nbformat": 4
 },
 "nbformat": 4,
 "nbformat_minor": 2
}
